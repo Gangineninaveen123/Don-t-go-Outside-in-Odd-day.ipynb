{
 "cells": [
  {
   "cell_type": "code",
   "execution_count": 1,
   "id": "c2fa349e",
   "metadata": {},
   "outputs": [
    {
     "name": "stdout",
     "output_type": "stream",
     "text": [
      "total number of even numbers in my_tuple:  4\n",
      "total number of odd numbers in my_tuple: 5\n"
     ]
    }
   ],
   "source": [
    "my_tuple = (1, 2, 3, 4, 5, 6, 7, 8, 9) \n",
    "even = 0\n",
    "odd = 0\n",
    "for i in my_tuple:\n",
    "    if i % 2 == 0:\n",
    "        even+=1\n",
    "    else:\n",
    "        odd+=1\n",
    "print(\"total number of even numbers in my_tuple: \",even)\n",
    "print(\"total number of odd numbers in my_tuple:\",odd)"
   ]
  },
  {
   "cell_type": "code",
   "execution_count": null,
   "id": "9b9d2723",
   "metadata": {},
   "outputs": [],
   "source": []
  }
 ],
 "metadata": {
  "kernelspec": {
   "display_name": "Python 3",
   "language": "python",
   "name": "python3"
  },
  "language_info": {
   "codemirror_mode": {
    "name": "ipython",
    "version": 3
   },
   "file_extension": ".py",
   "mimetype": "text/x-python",
   "name": "python",
   "nbconvert_exporter": "python",
   "pygments_lexer": "ipython3",
   "version": "3.6.9"
  }
 },
 "nbformat": 4,
 "nbformat_minor": 5
}
